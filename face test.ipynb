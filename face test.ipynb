{
 "cells": [
  {
   "cell_type": "code",
   "execution_count": 1,
   "metadata": {},
   "outputs": [],
   "source": [
    "import cv2\n",
    "from keras.models import load_model\n",
    "from keras.models import Sequential\n",
    "from keras.layers import Dropout\n",
    "from keras.preprocessing import image\n",
    "import numpy as np\n",
    "import math\n",
    "from PIL import Image \n"
   ]
  },
  {
   "cell_type": "code",
   "execution_count": 2,
   "metadata": {},
   "outputs": [],
   "source": [
    "model=load_model(r'C:\\Users\\mallu\\Desktop\\dataset\\model performance\\face_recognition.h5')\n"
   ]
  },
  {
   "cell_type": "code",
   "execution_count": 3,
   "metadata": {},
   "outputs": [],
   "source": [
    "face_classifier =cv2.CascadeClassifier(r'C:\\Users\\mallu\\Desktop\\Face-Recognition-Using-Transfer-Learning-master\\haarcascade_frontalface_default.xml')\n",
    "def face_extrctor(img):\n",
    "    faces=face_classifier.detectMultiScale(img,1.3,5)\n",
    "    if faces is():\n",
    "        return None\n",
    "    for(x,y,w,h) in faces:\n",
    "        cv2.rectangle(img,(x,y),(x+w,y+h),(0,255,255),2)\n",
    "        \n",
    "        cropped_face=img[y:y+h,x:x+w]\n",
    "    return cropped_face"
   ]
  },
  {
   "cell_type": "code",
   "execution_count": 5,
   "metadata": {},
   "outputs": [],
   "source": [
    "video_capture=cv2.VideoCapture(0)\n",
    "while True:\n",
    "    _,frame=video_capture.read()\n",
    "    face=face_extrctor(frame)\n",
    "    if type(face) is np.ndarray:\n",
    "        \n",
    "        face=cv2.resize(face,(224,224))\n",
    "        im=Image.fromarray(face,'RGB')\n",
    "        img_array=np.array(im)\n",
    "        img_array=np.expand_dims(img_array,axis=0)\n",
    "        predict=model.predict(img_array)\n",
    "        \n",
    "        name='None Matching'\n",
    "        \n",
    "        if (predict[0][0]>0.3):\n",
    "            name='Gopi {} %'.format(math.floor(predict[0][0]*100))\n",
    "            cv2.putText(frame,name,(50,50),cv2.FONT_HERSHEY_COMPLEX,1,(0,255,0),2)\n",
    "            \n",
    "        if (predict[0][1]>0.3):\n",
    "            name='Gopi {} %'.format(math.floor(predict[0][1]*100))\n",
    "            cv2.putText(frame,name,(50,50),cv2.FONT_HERSHEY_COMPLEX,1,(0,255,0),2)\n",
    "        \n",
    "        if (predict[0][2]>0.5):\n",
    "            name='Roopesh {} %'.format(math.floor(predict[0][2]*100))\n",
    "            cv2.putText(frame,name,(50,50),cv2.FONT_HERSHEY_COMPLEX,1,(0,255,0),2)\n",
    "            \n",
    "    else:\n",
    "        cv2.putText(frame,\"NO FACE DETECTED\",(50,50),cv2.FONT_HERSHEY_COMPLEX,1,(0,255,0),2)\n",
    "        \n",
    "        \n",
    "    cv2.imshow('Video',frame)\n",
    "    \n",
    "    if cv2.waitKey(1) & 0xFF==ord('q'):\n",
    "        break\n",
    "video_capture.release()\n",
    "cv2.destroyAllWindows()\n",
    "    "
   ]
  },
  {
   "cell_type": "code",
   "execution_count": null,
   "metadata": {},
   "outputs": [],
   "source": []
  },
  {
   "cell_type": "markdown",
   "metadata": {},
   "source": []
  },
  {
   "cell_type": "code",
   "execution_count": null,
   "metadata": {},
   "outputs": [],
   "source": [
    "\n"
   ]
  },
  {
   "cell_type": "code",
   "execution_count": null,
   "metadata": {},
   "outputs": [],
   "source": []
  }
 ],
 "metadata": {
  "kernelspec": {
   "display_name": "Python 3",
   "language": "python",
   "name": "python3"
  },
  "language_info": {
   "codemirror_mode": {
    "name": "ipython",
    "version": 3
   },
   "file_extension": ".py",
   "mimetype": "text/x-python",
   "name": "python",
   "nbconvert_exporter": "python",
   "pygments_lexer": "ipython3",
   "version": "3.7.7"
  }
 },
 "nbformat": 4,
 "nbformat_minor": 2
}
