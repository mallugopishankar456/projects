{
 "cells": [
  {
   "cell_type": "code",
   "execution_count": 1,
   "metadata": {},
   "outputs": [],
   "source": [
    "from keras.layers import Input, Lambda, Dense, Flatten\n",
    "from keras.models import Model\n",
    "from keras.applications.vgg16 import VGG16\n",
    "from keras.applications.vgg16 import preprocess_input\n",
    "from keras.preprocessing import image\n",
    "from keras.preprocessing.image import ImageDataGenerator\n",
    "from keras.models import Sequential\n",
    "import numpy as np\n",
    "from glob import glob\n",
    "import matplotlib.pyplot as plt\n",
    "from keras.layers import Dropout\n"
   ]
  },
  {
   "cell_type": "code",
   "execution_count": 2,
   "metadata": {},
   "outputs": [],
   "source": [
    "IMAGE_SIZE=[224,224]"
   ]
  },
  {
   "cell_type": "code",
   "execution_count": 3,
   "metadata": {},
   "outputs": [],
   "source": [
    "train_path= r'C:\\Users\\mallu\\Desktop\\dataset\\images\\train/'\n",
    "valid_path=r'C:\\Users\\mallu\\Desktop\\dataset\\images\\validation/'\n",
    "\n"
   ]
  },
  {
   "cell_type": "code",
   "execution_count": 4,
   "metadata": {},
   "outputs": [],
   "source": [
    "# add preprocessing layer to the front of VGG\n",
    "vgg=VGG16(input_shape=IMAGE_SIZE+[3] , weights='imagenet' , include_top=False) "
   ]
  },
  {
   "cell_type": "code",
   "execution_count": 5,
   "metadata": {},
   "outputs": [],
   "source": [
    "# dont train existing weight\n",
    "for layer in vgg.layers:\n",
    "    layer.trainable=False\n",
    "\n",
    "#useful for getting number of classes\n",
    "\n",
    "folders=glob(r'C:\\Users\\mallu\\Desktop\\dataset\\images\\train/*')\n"
   ]
  },
  {
   "cell_type": "code",
   "execution_count": 6,
   "metadata": {},
   "outputs": [],
   "source": [
    "# making our own layers you can add more layers you want\n",
    "\n",
    "x=Flatten()(vgg.output)\n",
    "prediction=Dense(len(folders), activation='softmax')(x)"
   ]
  },
  {
   "cell_type": "code",
   "execution_count": 7,
   "metadata": {},
   "outputs": [
    {
     "name": "stdout",
     "output_type": "stream",
     "text": [
      "Model: \"model\"\n",
      "_________________________________________________________________\n",
      "Layer (type)                 Output Shape              Param #   \n",
      "=================================================================\n",
      "input_1 (InputLayer)         [(None, 224, 224, 3)]     0         \n",
      "_________________________________________________________________\n",
      "block1_conv1 (Conv2D)        (None, 224, 224, 64)      1792      \n",
      "_________________________________________________________________\n",
      "block1_conv2 (Conv2D)        (None, 224, 224, 64)      36928     \n",
      "_________________________________________________________________\n",
      "block1_pool (MaxPooling2D)   (None, 112, 112, 64)      0         \n",
      "_________________________________________________________________\n",
      "block2_conv1 (Conv2D)        (None, 112, 112, 128)     73856     \n",
      "_________________________________________________________________\n",
      "block2_conv2 (Conv2D)        (None, 112, 112, 128)     147584    \n",
      "_________________________________________________________________\n",
      "block2_pool (MaxPooling2D)   (None, 56, 56, 128)       0         \n",
      "_________________________________________________________________\n",
      "block3_conv1 (Conv2D)        (None, 56, 56, 256)       295168    \n",
      "_________________________________________________________________\n",
      "block3_conv2 (Conv2D)        (None, 56, 56, 256)       590080    \n",
      "_________________________________________________________________\n",
      "block3_conv3 (Conv2D)        (None, 56, 56, 256)       590080    \n",
      "_________________________________________________________________\n",
      "block3_pool (MaxPooling2D)   (None, 28, 28, 256)       0         \n",
      "_________________________________________________________________\n",
      "block4_conv1 (Conv2D)        (None, 28, 28, 512)       1180160   \n",
      "_________________________________________________________________\n",
      "block4_conv2 (Conv2D)        (None, 28, 28, 512)       2359808   \n",
      "_________________________________________________________________\n",
      "block4_conv3 (Conv2D)        (None, 28, 28, 512)       2359808   \n",
      "_________________________________________________________________\n",
      "block4_pool (MaxPooling2D)   (None, 14, 14, 512)       0         \n",
      "_________________________________________________________________\n",
      "block5_conv1 (Conv2D)        (None, 14, 14, 512)       2359808   \n",
      "_________________________________________________________________\n",
      "block5_conv2 (Conv2D)        (None, 14, 14, 512)       2359808   \n",
      "_________________________________________________________________\n",
      "block5_conv3 (Conv2D)        (None, 14, 14, 512)       2359808   \n",
      "_________________________________________________________________\n",
      "block5_pool (MaxPooling2D)   (None, 7, 7, 512)         0         \n",
      "_________________________________________________________________\n",
      "flatten (Flatten)            (None, 25088)             0         \n",
      "_________________________________________________________________\n",
      "dense (Dense)                (None, 3)                 75267     \n",
      "=================================================================\n",
      "Total params: 14,789,955\n",
      "Trainable params: 75,267\n",
      "Non-trainable params: 14,714,688\n",
      "_________________________________________________________________\n"
     ]
    }
   ],
   "source": [
    "model=Model(inputs=vgg.input,outputs=prediction)\n",
    "\n",
    "\n",
    "model.summary()\n",
    " "
   ]
  },
  {
   "cell_type": "code",
   "execution_count": 8,
   "metadata": {},
   "outputs": [],
   "source": [
    "model.compile(loss='categorical_crossentropy',optimizer='adam',metrics=['accuracy'])\n",
    "\n"
   ]
  },
  {
   "cell_type": "code",
   "execution_count": 9,
   "metadata": {},
   "outputs": [],
   "source": [
    "test_datagen=ImageDataGenerator(rescale=1./255)\n",
    "train_datagen=ImageDataGenerator(rescale=1./255, shear_range=0.2,zoom_range=0.2,horizontal_flip=True)"
   ]
  },
  {
   "cell_type": "code",
   "execution_count": 10,
   "metadata": {},
   "outputs": [
    {
     "name": "stdout",
     "output_type": "stream",
     "text": [
      "Found 300 images belonging to 3 classes.\n",
      "Found 300 images belonging to 3 classes.\n"
     ]
    }
   ],
   "source": [
    "training_set=train_datagen.flow_from_directory(r'C:\\Users\\mallu\\Desktop\\dataset\\images\\train/',target_size=(224,224),batch_size=8,class_mode='categorical')\n",
    "\n",
    "testing_set=test_datagen.flow_from_directory(r'C:/Users/mallu/Desktop/dataset/images/validation/',target_size=(224,224),batch_size=8,class_mode='categorical')\n"
   ]
  },
  {
   "cell_type": "code",
   "execution_count": 11,
   "metadata": {},
   "outputs": [
    {
     "name": "stdout",
     "output_type": "stream",
     "text": [
      "Epoch 1/10\n",
      "38/38 [==============================] - 166s 4s/step - loss: 0.2598 - accuracy: 0.9167 - val_loss: 0.0014 - val_accuracy: 1.0000\n",
      "Epoch 2/10\n",
      "38/38 [==============================] - 165s 4s/step - loss: 0.0034 - accuracy: 1.0000 - val_loss: 6.2470e-04 - val_accuracy: 1.0000\n",
      "Epoch 3/10\n",
      "38/38 [==============================] - 165s 4s/step - loss: 3.8080e-04 - accuracy: 1.0000 - val_loss: 1.3455e-04 - val_accuracy: 1.0000\n",
      "Epoch 4/10\n",
      "38/38 [==============================] - 166s 4s/step - loss: 1.9763e-04 - accuracy: 1.0000 - val_loss: 8.0338e-05 - val_accuracy: 1.0000\n",
      "Epoch 5/10\n",
      "38/38 [==============================] - 164s 4s/step - loss: 1.2671e-04 - accuracy: 1.0000 - val_loss: 6.0821e-05 - val_accuracy: 1.0000\n",
      "Epoch 6/10\n",
      "38/38 [==============================] - 164s 4s/step - loss: 1.2408e-04 - accuracy: 1.0000 - val_loss: 4.8492e-05 - val_accuracy: 1.0000\n",
      "Epoch 7/10\n",
      "38/38 [==============================] - 185s 5s/step - loss: 9.7268e-05 - accuracy: 1.0000 - val_loss: 4.1706e-05 - val_accuracy: 1.0000\n",
      "Epoch 8/10\n",
      "38/38 [==============================] - 200s 5s/step - loss: 8.6392e-05 - accuracy: 1.0000 - val_loss: 3.6962e-05 - val_accuracy: 1.0000\n",
      "Epoch 9/10\n",
      "38/38 [==============================] - 165s 4s/step - loss: 7.1583e-05 - accuracy: 1.0000 - val_loss: 3.2800e-05 - val_accuracy: 1.0000\n",
      "Epoch 10/10\n",
      "38/38 [==============================] - 164s 4s/step - loss: 6.0847e-05 - accuracy: 1.0000 - val_loss: 2.9781e-05 - val_accuracy: 1.0000\n"
     ]
    }
   ],
   "source": [
    "fitting=model.fit(training_set,validation_data=testing_set,epochs=10,steps_per_epoch=len(training_set),validation_steps=len(testing_set))"
   ]
  },
  {
   "cell_type": "code",
   "execution_count": 12,
   "metadata": {},
   "outputs": [
    {
     "data": {
      "image/png": "[encoded data removed]",
      "text/plain": [
       "<Figure size 432x288 with 1 Axes>"
      ]
     },
     "metadata": {
      "needs_background": "light"
     },
     "output_type": "display_data"
    }
   ],
   "source": [
    "plt.plot(fitting.history['loss'],label='train loss')\n",
    "plt.plot(fitting.history['val_loss'],label='val loss')\n",
    "plt.legend()\n",
    "plt.savefig(r'C:\\Users\\mallu\\Desktop\\dataset\\model performance\\loss_validation')"
   ]
  },
  {
   "cell_type": "code",
   "execution_count": 13,
   "metadata": {},
   "outputs": [
    {
     "data": {
      "image/png": "[encoded data removed]",
      "text/plain": [
       "<Figure size 432x288 with 1 Axes>"
      ]
     },
     "metadata": {
      "needs_background": "light"
     },
     "output_type": "display_data"
    }
   ],
   "source": [
    "plt.plot(fitting.history['accuracy'],label='train acc')\n",
    "plt.plot(fitting.history['val_accuracy'],label='val acc')\n",
    "\n",
    "plt.legend()\n",
    "plt.savefig(r'C:\\Users\\mallu\\Desktop\\dataset\\model performance\\accuracy')"
   ]
  },
  {
   "cell_type": "code",
   "execution_count": 14,
   "metadata": {},
   "outputs": [],
   "source": [
    "model.save(r'C:\\Users\\mallu\\Desktop\\dataset\\model performance\\face_recognition.h5')"
   ]
  },
  {
   "cell_type": "code",
   "execution_count": null,
   "metadata": {},
   "outputs": [],
   "source": []
  }
 ],
 "metadata": {
  "kernelspec": {
   "display_name": "Python 3",
   "language": "python",
   "name": "python3"
  },
  "language_info": {
   "codemirror_mode": {
    "name": "ipython",
    "version": 3
   },
   "file_extension": ".py",
   "mimetype": "text/x-python",
   "name": "python",
   "nbconvert_exporter": "python",
   "pygments_lexer": "ipython3",
   "version": "3.7.7"
  }
 },
 "nbformat": 4,
 "nbformat_minor": 2
}
